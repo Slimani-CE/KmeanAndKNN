{
  "nbformat": 4,
  "nbformat_minor": 0,
  "metadata": {
    "colab": {
      "provenance": []
    },
    "kernelspec": {
      "name": "python3",
      "display_name": "Python 3"
    },
    "language_info": {
      "name": "python"
    }
  },
  "cells": [
    {
      "cell_type": "code",
      "source": [
        "import numpy as np\n",
        "import matplotlib.pyplot as plt\n",
        "from matplotlib.colors import ListedColormap\n",
        "from sklearn import datasets\n",
        "from sklearn.model_selection import train_test_split\n"
      ],
      "metadata": {
        "id": "HX_PhAsru57z"
      },
      "execution_count": 109,
      "outputs": []
    },
    {
      "cell_type": "code",
      "execution_count": 110,
      "metadata": {
        "colab": {
          "base_uri": "https://localhost:8080/"
        },
        "id": "4OlwjqqFpoXy",
        "outputId": "20b6654f-bf21-4cb7-ae2c-86cc024caeb9"
      },
      "outputs": [
        {
          "output_type": "stream",
          "name": "stdout",
          "text": [
            "Précision de classification MonKNN: 1.0\n"
          ]
        }
      ],
      "source": [
        "\n",
        "# Fonction pour calculer la distance euclidienne entre deux points\n",
        "def distance_euclidienne(point_a, point_b):\n",
        "    return np.sqrt(np.sum((point_a - point_b) ** 2))\n",
        "\n",
        "class MonKNN:\n",
        "    def __init__(self, n_voisins=3):\n",
        "        self.n_voisins = n_voisins\n",
        "\n",
        "    def entrainer(self, donnees_entrainement, cibles_entrainement):\n",
        "        self.donnees_entrainement = donnees_entrainement\n",
        "        self.cibles_entrainement = cibles_entrainement\n",
        "\n",
        "    def predire(self, donnees_test):\n",
        "        cibles_predites = [self._predire(x) for x in donnees_test]\n",
        "        return np.array(cibles_predites)\n",
        "\n",
        "    def _predire(self, point):\n",
        "        # Calcule les distances entre le point et tous les exemples dans l'ensemble d'entrainement\n",
        "        distances = [distance_euclidienne(point, exemple) for exemple in self.donnees_entrainement]\n",
        "        # Trie par distance et retourne les indices des n_voisins plus proches\n",
        "        indices_voisins = np.argsort(distances)[: self.n_voisins]\n",
        "        # Extrait les labels des n_voisins plus proches\n",
        "        labels_voisins = [self.cibles_entrainement[i] for i in indices_voisins]\n",
        "        # Retourne la classe la plus courante\n",
        "        plus_courant = Counter(labels_voisins).most_common(1)\n",
        "        return plus_courant[0][0]\n",
        "\n",
        "if __name__ == \"__main__\":\n",
        "    cmap = ListedColormap([\"#FF0000\", \"#00FF00\", \"#0000FF\"])\n",
        "\n",
        "    def precision(cibles_reelles, cibles_predites):\n",
        "        precision = np.sum(cibles_reelles == cibles_predites) / len(cibles_reelles)\n",
        "        return precision\n",
        "\n",
        "    iris = datasets.load_iris()\n",
        "    donnees, cibles = iris.data, iris.target\n",
        "\n",
        "    donnees_entrainement, donnees_test, cibles_entrainement, cibles_test = train_test_split(\n",
        "        donnees, cibles, test_size=0.2, random_state=1234\n",
        "    )\n",
        "\n",
        "    n_voisins = 3\n",
        "    modele = MonKNN(n_voisins=n_voisins)\n",
        "    modele.entrainer(donnees_entrainement, cibles_entrainement)\n",
        "    cibles_predites = modele.predire(donnees_test)\n",
        "    print(\"Précision de classification MonKNN:\", precision(cibles_test, cibles_predites))\n"
      ]
    },
    {
      "cell_type": "code",
      "source": [],
      "metadata": {
        "id": "SitIQBJr-kVh"
      },
      "execution_count": null,
      "outputs": []
    }
  ]
}